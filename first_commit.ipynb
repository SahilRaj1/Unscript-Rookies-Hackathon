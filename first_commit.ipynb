{
 "cells": [
  {
   "cell_type": "markdown",
   "id": "3f3401d8",
   "metadata": {},
   "source": [
    "<h1>Unscript Rookies Hackathon 2k22</h1>"
   ]
  },
  {
   "cell_type": "markdown",
   "id": "0e559eb3",
   "metadata": {},
   "source": [
    "<h2>Importing the Libraries</h2>"
   ]
  },
  {
   "cell_type": "code",
   "execution_count": 18,
   "id": "f43db031",
   "metadata": {},
   "outputs": [],
   "source": [
    "import numpy as np\n",
    "import pandas as pd\n",
    "import matplotlib.pyplot as plt\n",
    "%matplotlib inline\n",
    "from pandas_profiling import ProfileReport"
   ]
  },
  {
   "cell_type": "markdown",
   "id": "a87f8743",
   "metadata": {},
   "source": [
    "<h2>Importing the Dataset</h2>"
   ]
  },
  {
   "cell_type": "code",
   "execution_count": 5,
   "id": "d85c65ed",
   "metadata": {},
   "outputs": [],
   "source": [
    "dataset = pd.read_csv(\"AIML Dataset.csv\")"
   ]
  },
  {
   "cell_type": "markdown",
   "id": "e2e2d516",
   "metadata": {},
   "source": [
    "<h2>Data Analysis</h2>"
   ]
  },
  {
   "cell_type": "markdown",
   "id": "3ce42905",
   "metadata": {},
   "source": [
    "<h3>Checking the types of data</h3>"
   ]
  },
  {
   "cell_type": "code",
   "execution_count": 10,
   "id": "5739dfaf",
   "metadata": {},
   "outputs": [
    {
     "data": {
      "text/plain": [
       "step                int64\n",
       "type               object\n",
       "amount            float64\n",
       "nameOrig           object\n",
       "oldbalanceOrg     float64\n",
       "newbalanceOrig    float64\n",
       "nameDest           object\n",
       "oldbalanceDest    float64\n",
       "newbalanceDest    float64\n",
       "isFraud             int64\n",
       "isFlaggedFraud      int64\n",
       "dtype: object"
      ]
     },
     "execution_count": 10,
     "metadata": {},
     "output_type": "execute_result"
    }
   ],
   "source": [
    "dataset.dtypes"
   ]
  },
  {
   "cell_type": "markdown",
   "id": "67e7facc",
   "metadata": {},
   "source": [
    "<h3>Checking for any null values</h3>"
   ]
  },
  {
   "cell_type": "code",
   "execution_count": 6,
   "id": "1cf87d03",
   "metadata": {},
   "outputs": [
    {
     "data": {
      "text/plain": [
       "False"
      ]
     },
     "execution_count": 6,
     "metadata": {},
     "output_type": "execute_result"
    }
   ],
   "source": [
    "dataset.isnull().values.any()"
   ]
  },
  {
   "cell_type": "markdown",
   "id": "13f3f32c",
   "metadata": {},
   "source": [
    "There are no Null values in the Dataset."
   ]
  },
  {
   "cell_type": "markdown",
   "id": "fefdfe2d",
   "metadata": {},
   "source": [
    "<h3>Data Description</h3>"
   ]
  },
  {
   "cell_type": "code",
   "execution_count": 31,
   "id": "231fad34",
   "metadata": {},
   "outputs": [
    {
     "data": {
      "text/html": [
       "<div>\n",
       "<style scoped>\n",
       "    .dataframe tbody tr th:only-of-type {\n",
       "        vertical-align: middle;\n",
       "    }\n",
       "\n",
       "    .dataframe tbody tr th {\n",
       "        vertical-align: top;\n",
       "    }\n",
       "\n",
       "    .dataframe thead th {\n",
       "        text-align: right;\n",
       "    }\n",
       "</style>\n",
       "<table border=\"1\" class=\"dataframe\">\n",
       "  <thead>\n",
       "    <tr style=\"text-align: right;\">\n",
       "      <th></th>\n",
       "      <th>step</th>\n",
       "      <th>amount</th>\n",
       "      <th>oldbalanceOrg</th>\n",
       "      <th>newbalanceOrig</th>\n",
       "      <th>oldbalanceDest</th>\n",
       "      <th>newbalanceDest</th>\n",
       "      <th>isFraud</th>\n",
       "      <th>isFlaggedFraud</th>\n",
       "    </tr>\n",
       "  </thead>\n",
       "  <tbody>\n",
       "    <tr>\n",
       "      <th>count</th>\n",
       "      <td>6.362620e+06</td>\n",
       "      <td>6.362620e+06</td>\n",
       "      <td>6.362620e+06</td>\n",
       "      <td>6.362620e+06</td>\n",
       "      <td>6.362620e+06</td>\n",
       "      <td>6.362620e+06</td>\n",
       "      <td>6.362620e+06</td>\n",
       "      <td>6.362620e+06</td>\n",
       "    </tr>\n",
       "    <tr>\n",
       "      <th>mean</th>\n",
       "      <td>2.433972e+02</td>\n",
       "      <td>1.798619e+05</td>\n",
       "      <td>8.338831e+05</td>\n",
       "      <td>8.551137e+05</td>\n",
       "      <td>1.100702e+06</td>\n",
       "      <td>1.224996e+06</td>\n",
       "      <td>1.290820e-03</td>\n",
       "      <td>2.514687e-06</td>\n",
       "    </tr>\n",
       "    <tr>\n",
       "      <th>std</th>\n",
       "      <td>1.423320e+02</td>\n",
       "      <td>6.038582e+05</td>\n",
       "      <td>2.888243e+06</td>\n",
       "      <td>2.924049e+06</td>\n",
       "      <td>3.399180e+06</td>\n",
       "      <td>3.674129e+06</td>\n",
       "      <td>3.590480e-02</td>\n",
       "      <td>1.585775e-03</td>\n",
       "    </tr>\n",
       "    <tr>\n",
       "      <th>min</th>\n",
       "      <td>1.000000e+00</td>\n",
       "      <td>0.000000e+00</td>\n",
       "      <td>0.000000e+00</td>\n",
       "      <td>0.000000e+00</td>\n",
       "      <td>0.000000e+00</td>\n",
       "      <td>0.000000e+00</td>\n",
       "      <td>0.000000e+00</td>\n",
       "      <td>0.000000e+00</td>\n",
       "    </tr>\n",
       "    <tr>\n",
       "      <th>25%</th>\n",
       "      <td>1.560000e+02</td>\n",
       "      <td>1.338957e+04</td>\n",
       "      <td>0.000000e+00</td>\n",
       "      <td>0.000000e+00</td>\n",
       "      <td>0.000000e+00</td>\n",
       "      <td>0.000000e+00</td>\n",
       "      <td>0.000000e+00</td>\n",
       "      <td>0.000000e+00</td>\n",
       "    </tr>\n",
       "    <tr>\n",
       "      <th>50%</th>\n",
       "      <td>2.390000e+02</td>\n",
       "      <td>7.487194e+04</td>\n",
       "      <td>1.420800e+04</td>\n",
       "      <td>0.000000e+00</td>\n",
       "      <td>1.327057e+05</td>\n",
       "      <td>2.146614e+05</td>\n",
       "      <td>0.000000e+00</td>\n",
       "      <td>0.000000e+00</td>\n",
       "    </tr>\n",
       "    <tr>\n",
       "      <th>75%</th>\n",
       "      <td>3.350000e+02</td>\n",
       "      <td>2.087215e+05</td>\n",
       "      <td>1.073152e+05</td>\n",
       "      <td>1.442584e+05</td>\n",
       "      <td>9.430367e+05</td>\n",
       "      <td>1.111909e+06</td>\n",
       "      <td>0.000000e+00</td>\n",
       "      <td>0.000000e+00</td>\n",
       "    </tr>\n",
       "    <tr>\n",
       "      <th>max</th>\n",
       "      <td>7.430000e+02</td>\n",
       "      <td>9.244552e+07</td>\n",
       "      <td>5.958504e+07</td>\n",
       "      <td>4.958504e+07</td>\n",
       "      <td>3.560159e+08</td>\n",
       "      <td>3.561793e+08</td>\n",
       "      <td>1.000000e+00</td>\n",
       "      <td>1.000000e+00</td>\n",
       "    </tr>\n",
       "  </tbody>\n",
       "</table>\n",
       "</div>"
      ],
      "text/plain": [
       "               step        amount  oldbalanceOrg  ...  newbalanceDest       isFraud  isFlaggedFraud\n",
       "count  6.362620e+06  6.362620e+06   6.362620e+06  ...    6.362620e+06  6.362620e+06    6.362620e+06\n",
       "mean   2.433972e+02  1.798619e+05   8.338831e+05  ...    1.224996e+06  1.290820e-03    2.514687e-06\n",
       "std    1.423320e+02  6.038582e+05   2.888243e+06  ...    3.674129e+06  3.590480e-02    1.585775e-03\n",
       "min    1.000000e+00  0.000000e+00   0.000000e+00  ...    0.000000e+00  0.000000e+00    0.000000e+00\n",
       "25%    1.560000e+02  1.338957e+04   0.000000e+00  ...    0.000000e+00  0.000000e+00    0.000000e+00\n",
       "50%    2.390000e+02  7.487194e+04   1.420800e+04  ...    2.146614e+05  0.000000e+00    0.000000e+00\n",
       "75%    3.350000e+02  2.087215e+05   1.073152e+05  ...    1.111909e+06  0.000000e+00    0.000000e+00\n",
       "max    7.430000e+02  9.244552e+07   5.958504e+07  ...    3.561793e+08  1.000000e+00    1.000000e+00\n",
       "\n",
       "[8 rows x 8 columns]"
      ]
     },
     "execution_count": 31,
     "metadata": {},
     "output_type": "execute_result"
    }
   ],
   "source": [
    "dataset.describe()"
   ]
  },
  {
   "cell_type": "markdown",
   "id": "78ed49d1",
   "metadata": {},
   "source": [
    "<h3>Frequencies of Transaction types</h3>"
   ]
  },
  {
   "cell_type": "code",
   "execution_count": 25,
   "id": "9054a5e7",
   "metadata": {},
   "outputs": [
    {
     "data": {
      "image/png": "[encoded data removed]",
      "text/plain": [
       "<Figure size 432x288 with 1 Axes>"
      ]
     },
     "metadata": {
      "needs_background": "light"
     },
     "output_type": "display_data"
    }
   ],
   "source": [
    "x_type = list(dataset.type.drop_duplicates().values)\n",
    "y_type = [len(dataset.loc[(dataset.type == i)]) for i in x_type]\n",
    "c = [\"red\", \"green\", \"orange\", \"hotpink\", \"blue\"]\n",
    "plt.bar(x_type,y_type, color=c)\n",
    "plt.title(\"Frequencies of Transaction types\")\n",
    "plt.xlabel(\"TYPE\")\n",
    "plt.ylabel(\"COUNT\")\n",
    "plt.show()"
   ]
  },
  {
   "cell_type": "markdown",
   "id": "677aa01d",
   "metadata": {},
   "source": [
    "<h3>Checking for fraud transactions</h3>"
   ]
  },
  {
   "cell_type": "code",
   "execution_count": 8,
   "id": "693c78f1",
   "metadata": {},
   "outputs": [
    {
     "name": "stdout",
     "output_type": "stream",
     "text": [
      "The Fraudulent transactions are of the type - ['TRANSFER', 'CASH_OUT']\n"
     ]
    }
   ],
   "source": [
    "fraud_type = list(dataset.loc[dataset.isFraud == 1].type.drop_duplicates().values)\n",
    "print(f\"The Fraudulent transactions are of the type - {fraud_type}\")"
   ]
  },
  {
   "cell_type": "code",
   "execution_count": 26,
   "id": "0ab702bc",
   "metadata": {},
   "outputs": [
    {
     "data": {
      "image/png": "[encoded data removed]",
      "text/plain": [
       "<Figure size 432x288 with 1 Axes>"
      ]
     },
     "metadata": {
      "needs_background": "light"
     },
     "output_type": "display_data"
    }
   ],
   "source": [
    "x_fraud_type = list(dataset.type.drop_duplicates().values)\n",
    "y_fraud_type = [len(dataset.loc[(dataset.isFraud == 1) & (dataset.type == i)]) for i in x_fraud_type]\n",
    "plt.bar(x_fraud_type, y_fraud_type, color=c)\n",
    "plt.title(\"Frequencies of Fraud Transaction types\")\n",
    "plt.xlabel(\"TYPE\")\n",
    "plt.ylabel(\"NO. OF FRAUD TRANSACTIONS\")\n",
    "plt.show()"
   ]
  },
  {
   "cell_type": "code",
   "execution_count": 13,
   "id": "9516841b",
   "metadata": {},
   "outputs": [
    {
     "name": "stdout",
     "output_type": "stream",
     "text": [
      "The number of fraudulent TRANSFERs = 4097\n",
      "The number of fraudulent CASH_OUTs = 4116\n"
     ]
    }
   ],
   "source": [
    "fraud_transfer = dataset.loc[(dataset.isFraud == 1) & (dataset.type == 'TRANSFER')]\n",
    "fraud_cash_out = dataset.loc[(dataset.isFraud == 1) & (dataset.type == 'CASH_OUT')]\n",
    "print(f\"The number of fraudulent TRANSFERs = {len(fraud_transfer)}\")\n",
    "print(f\"The number of fraudulent CASH_OUTs = {len(fraud_cash_out)}\")"
   ]
  },
  {
   "cell_type": "markdown",
   "id": "1fc64d86",
   "metadata": {},
   "source": [
    "Therefore only CASH-OUT and TRANSFER transactions can be fraudulent.<br>\n",
    "Also there is an almost equal likelihood that a fraudulent transaction can be CASH_OUT or TRANSFER."
   ]
  },
  {
   "cell_type": "markdown",
   "id": "70b55b35",
   "metadata": {},
   "source": [
    "<h4>Retaining only CASH-OUT and TRANSFER transactions</h4>"
   ]
  },
  {
   "cell_type": "code",
   "execution_count": 29,
   "id": "da6d2d44",
   "metadata": {},
   "outputs": [
    {
     "name": "stdout",
     "output_type": "stream",
     "text": [
      "The new data now has 2770409 transactions.\n"
     ]
    }
   ],
   "source": [
    "data = dataset.loc[dataset['type'].isin(['CASH_OUT', 'TRANSFER']),:]\n",
    "print('The new data now has', len(data), 'transactions.')"
   ]
  },
  {
   "cell_type": "markdown",
   "id": "56a6f32a",
   "metadata": {},
   "source": [
    "Therefore, we managed to reduce the data from over 60 lakhs transactions to ~28 lakhs transactions."
   ]
  },
  {
   "cell_type": "code",
   "execution_count": null,
   "id": "5951fedc",
   "metadata": {},
   "outputs": [],
   "source": []
  }
 ],
 "metadata": {
  "kernelspec": {
   "display_name": "Python 3 (ipykernel)",
   "language": "python",
   "name": "python3"
  },
  "language_info": {
   "codemirror_mode": {
    "name": "ipython",
    "version": 3
   },
   "file_extension": ".py",
   "mimetype": "text/x-python",
   "name": "python",
   "nbconvert_exporter": "python",
   "pygments_lexer": "ipython3",
   "version": "3.9.7"
  }
 },
 "nbformat": 4,
 "nbformat_minor": 5
}
